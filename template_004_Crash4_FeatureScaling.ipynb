{
 "cells": [
  {
   "cell_type": "markdown",
   "metadata": {},
   "source": [
    "# 4. Feature Scaling\n",
    "\n",
    "- 특정 feature 의 value 가 다른 feature 들 보다 훨씬 크면, 그 값이 목적함수를 지배하게 되므로 정확한 학습이 되지 않음\n",
    "\n",
    "- sklearn 의 preprocessing module 은 scale, minmax_scale 함수와 이에 대응하는 StandardScaler, MinMaxScaler class 및 fit(), transform() method 를 제공하여 쉽게 scaling 을 할 수 있도록 지원\n",
    "\n",
    "## 1) Simple Feature Scaling\n",
    "\n",
    "$$ X_{new} = \\frac{X_{old}}{X_{max}}$$\n",
    "- 데이터의 최대 값으로 데이터 값들을 다 나눠주면 됨.\n",
    "## 2) Min-Max Scaling\n",
    "- 데이터값에서 그 데이터들의 최소값을 빼주고 구각능로 나눠주면 최솟값은 0 최댓값은 1로 스케일링이됨\n",
    "- 최대/최소값이 1, 0 이 되도록 scaling  \n",
    "- x=min 이면 y=0, x=max 이면 y=1.\n",
    "\n",
    "\n",
    "$$ X_{new} = \\frac{X_{old} - X_{min}}{X_{max} - X_{min}}$$\n",
    "\n",
    "\n",
    "## 3) Standard Scaling (Z-score)\n",
    "- 어떤 값에서 평균을 빼주고 표준편차로 나눠줌, Z 스코어로 스케일링이 됨 이 숫자는 0을 중심으로 해서 마이너스 1에서 플러스 또는 -2 ~ +2  이런 식으로 쭉 분포가 되는 거임 (표준 정규 분포를 이룸)\n",
    "- 평균과 표준편차를 이용하여 scaling  \n",
    "- $\\mu : 평균, \\sigma : 표준편차 $\n",
    "\n",
    "$$ X_{new} = \\frac{X_{old} - \\mu}{\\sigma}$$\n"
   ]
  },
  {
   "cell_type": "code",
   "execution_count": 2,
   "metadata": {},
   "outputs": [],
   "source": [
    "import numpy as np\n",
    "import pandas as pd\n",
    "import matplotlib.pyplot as plt\n",
    "from sklearn.preprocessing import MinMaxScaler\n",
    "from sklearn.preprocessing import StandardScaler"
   ]
  },
  {
   "cell_type": "code",
   "execution_count": 8,
   "metadata": {},
   "outputs": [
    {
     "name": "stdout",
     "output_type": "stream",
     "text": [
      "(10, 1)\n",
      "[[-3.]\n",
      " [-2.]\n",
      " [-1.]\n",
      " [ 0.]\n",
      " [ 1.]\n",
      " [ 2.]\n",
      " [ 3.]\n",
      " [ 4.]\n",
      " [ 5.]\n",
      " [20.]]\n"
     ]
    }
   ],
   "source": [
    "X = np.arange(-3,6).astype(\"float32\").reshape(-1,1)\n",
    "X = np.vstack([X,[20]]) # X 행렬에 수직으로 맨 및에 20의 큰 숫자가 하나 추가됨.\n",
    "# 가상의 아웃라이어를 하나 추가해줌 \n",
    "print(X.shape)\n",
    "print(X) # 원래 X는 1차원 벡터로 이뤄져있기 때문에 reshape해서 행렬 형태로 만들어줘야함.\n",
    "# min-max scaler나 standard 스케일러는 전부 행렬 형태로 데이터를 입력으로 받게 됨\n",
    "# 그래서 행렬 형태로 바꿔줘야함. \n",
    "\n",
    "# 결과 : 9개의 행, 1개의 열로 이뤄진 행렬 형태로 X가 바뀜"
   ]
  },
  {
   "cell_type": "code",
   "execution_count": 11,
   "metadata": {},
   "outputs": [
    {
     "data": {
      "text/plain": [
       "array([[-0.15],\n",
       "       [-0.1 ],\n",
       "       [-0.05],\n",
       "       [ 0.  ],\n",
       "       [ 0.05],\n",
       "       [ 0.1 ],\n",
       "       [ 0.15],\n",
       "       [ 0.2 ],\n",
       "       [ 0.25],\n",
       "       [ 1.  ]])"
      ]
     },
     "execution_count": 11,
     "metadata": {},
     "output_type": "execute_result"
    }
   ],
   "source": [
    "#Simple Scaling --> Image 처리할때 간단히 사용 0~255픽셀값\n",
    "# 아무리 값이 커도 픽셀값의 최대는 255이기 때문에 최댓값인 255로 나눠줌 \n",
    "# 그냥 250으로 나눠주면 자연스럽게 스케일링이 됨 \n",
    "# 이런 원리를 이용해서 심플 스케일링은 이미지 처리할 때 많이 쓰이고 있음 \n",
    "X_simple = X / X.max()\n",
    "X_simple # 값 차이가 컸는데 스케일이 비슷한 형태로 바뀜 "
   ]
  },
  {
   "cell_type": "code",
   "execution_count": 14,
   "metadata": {},
   "outputs": [
    {
     "data": {
      "text/plain": [
       "array([[0.        ],\n",
       "       [0.04347826],\n",
       "       [0.08695652],\n",
       "       [0.13043478],\n",
       "       [0.17391304],\n",
       "       [0.2173913 ],\n",
       "       [0.26086957],\n",
       "       [0.30434783],\n",
       "       [0.34782609],\n",
       "       [1.        ]])"
      ]
     },
     "execution_count": 14,
     "metadata": {},
     "output_type": "execute_result"
    }
   ],
   "source": [
    "# Min Max Scaling\n",
    "X_minmax = (X-X.min()) / (X.max() - X.min())\n",
    "X_minmax"
   ]
  },
  {
   "cell_type": "code",
   "execution_count": 17,
   "metadata": {},
   "outputs": [
    {
     "data": {
      "text/plain": [
       "array([[0.        ],\n",
       "       [0.04347826],\n",
       "       [0.08695652],\n",
       "       [0.13043478],\n",
       "       [0.17391304],\n",
       "       [0.2173913 ],\n",
       "       [0.26086957],\n",
       "       [0.30434783],\n",
       "       [0.34782609],\n",
       "       [1.        ]])"
      ]
     },
     "execution_count": 17,
     "metadata": {},
     "output_type": "execute_result"
    }
   ],
   "source": [
    "sc = MinMaxScaler()\n",
    "X_minmax2 = sc.fit_transform(X)\n",
    "# fit이라고 할때 이 minmaxScaler라고 하는 함수는 x에서 이 최댓값,최솟값을 다 미리 계산해놓음(fit단계)\n",
    "# transform 단계 : fit 단계에서 구한 min,max을 이 공식에 적용하는 단계\n",
    "X_minmax2 #공식으로 했을때나 라이브버리를 사용했을때나 똑같음"
   ]
  },
  {
   "cell_type": "code",
   "execution_count": 19,
   "metadata": {},
   "outputs": [
    {
     "data": {
      "text/plain": [
       "array([[-0.95099461],\n",
       "       [-0.78980908],\n",
       "       [-0.62862356],\n",
       "       [-0.46743803],\n",
       "       [-0.3062525 ],\n",
       "       [-0.14506697],\n",
       "       [ 0.01611855],\n",
       "       [ 0.17730408],\n",
       "       [ 0.33848961],\n",
       "       [ 2.75627252]])"
      ]
     },
     "execution_count": 19,
     "metadata": {},
     "output_type": "execute_result"
    }
   ],
   "source": [
    "#Standard Scaling(직접 공식 사용했을때)\n",
    "X_standard = (X - X.mean()) / X.std()\n",
    "X_standard"
   ]
  },
  {
   "cell_type": "code",
   "execution_count": 20,
   "metadata": {},
   "outputs": [
    {
     "data": {
      "text/plain": [
       "array([[-0.95099461],\n",
       "       [-0.78980908],\n",
       "       [-0.62862356],\n",
       "       [-0.46743803],\n",
       "       [-0.3062525 ],\n",
       "       [-0.14506697],\n",
       "       [ 0.01611855],\n",
       "       [ 0.17730408],\n",
       "       [ 0.33848961],\n",
       "       [ 2.75627252]])"
      ]
     },
     "execution_count": 20,
     "metadata": {},
     "output_type": "execute_result"
    }
   ],
   "source": [
    "sc = StandardScaler()\n",
    "X_standard2 = sc.fit_transform(X)\n",
    "X_standard2"
   ]
  },
  {
   "cell_type": "code",
   "execution_count": 24,
   "metadata": {},
   "outputs": [
    {
     "data": {
      "text/plain": [
       "Text(0.5, 1.0, 'Standard Scaling')"
      ]
     },
     "execution_count": 24,
     "metadata": {},
     "output_type": "execute_result"
    },
    {
     "data": {
      "image/png": "[encoded data removed]",
      "text/plain": [
       "<Figure size 1400x400 with 4 Axes>"
      ]
     },
     "metadata": {},
     "output_type": "display_data"
    }
   ],
   "source": [
    "plt.figure(figsize = (14,4))\n",
    "plt.subplot(1,4,1)\n",
    "plt.hist(X, bins = 50)\n",
    "plt.title(\"Original Data\")\n",
    "\n",
    "plt.subplot(1,4,2) # 최댓값 20이 1로 바뀜 \n",
    "plt.hist(X_simple, bins = 50)\n",
    "plt.title(\"Simple Scaling\")\n",
    "\n",
    "plt.subplot(1,4,3)\n",
    "plt.hist(X_minmax, bins = 50) # 최솟값이 0, 최댓값이 1\n",
    "plt.title(\"MinMax Scaling\")\n",
    "\n",
    "plt.subplot(1,4,4)\n",
    "plt.hist(X_standard, bins = 50)\n",
    "plt.title(\"Standard Scaling\") #분포는 바뀌지 않았는데 이 값들\n",
    "# 데이터의 값들이 value가 비슷하게 바뀜 \n",
    "# 크기에 영향을 안 받고 정확하게 학습을 할 수 있"
   ]
  },
  {
   "cell_type": "code",
   "execution_count": null,
   "metadata": {},
   "outputs": [],
   "source": []
  }
 ],
 "metadata": {
  "kernelspec": {
   "display_name": "Python 3 (ipykernel)",
   "language": "python",
   "name": "python3"
  },
  "language_info": {
   "codemirror_mode": {
    "name": "ipython",
    "version": 3
   },
   "file_extension": ".py",
   "mimetype": "text/x-python",
   "name": "python",
   "nbconvert_exporter": "python",
   "pygments_lexer": "ipython3",
   "version": "3.12.4"
  }
 },
 "nbformat": 4,
 "nbformat_minor": 4
}
