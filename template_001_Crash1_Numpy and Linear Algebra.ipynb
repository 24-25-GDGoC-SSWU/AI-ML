{
 "cells": [
  {
   "cell_type": "markdown",
   "metadata": {},
   "source": [
    "# 1. Numpy and Linear Algebra (선형대수)\n",
    "\n",
    "- 수치 data 를 다루는데 효율적이고 높은 성능 제공\n",
    "\n",
    "- 각종 수학적 함수 제공\n",
    "\n",
    "- Python scientific library 들이 Numpy 기반으로 구축\n",
    "\n",
    "### ndarray\n",
    "\n",
    "- n-dimensional array (다차원 배열 객체) 로 구성 "
   ]
  },
  {
   "cell_type": "code",
   "execution_count": 1,
   "metadata": {},
   "outputs": [
    {
     "data": {
      "text/plain": [
       "6"
      ]
     },
     "execution_count": 1,
     "metadata": {},
     "output_type": "execute_result"
    }
   ],
   "source": [
    "import numpy as np\n",
    "x = 6\n",
    "x"
   ]
  },
  {
   "cell_type": "code",
   "execution_count": 2,
   "metadata": {},
   "outputs": [
    {
     "data": {
      "text/plain": [
       "(1,)"
      ]
     },
     "execution_count": 2,
     "metadata": {},
     "output_type": "execute_result"
    }
   ],
   "source": [
    "x = np.array([1])\n",
    "x.shape"
   ]
  },
  {
   "cell_type": "code",
   "execution_count": 3,
   "metadata": {},
   "outputs": [
    {
     "data": {
      "text/plain": [
       "(3,)"
      ]
     },
     "execution_count": 3,
     "metadata": {},
     "output_type": "execute_result"
    }
   ],
   "source": [
    "x = np.array([1,2,3])\n",
    "x.shape #요소가 3개인 1차원 array 벡터"
   ]
  },
  {
   "cell_type": "code",
   "execution_count": 4,
   "metadata": {},
   "outputs": [
    {
     "data": {
      "text/plain": [
       "array([1, 2, 3])"
      ]
     },
     "execution_count": 4,
     "metadata": {},
     "output_type": "execute_result"
    }
   ],
   "source": [
    "x"
   ]
  },
  {
   "cell_type": "code",
   "execution_count": 5,
   "metadata": {},
   "outputs": [
    {
     "data": {
      "text/plain": [
       "2"
      ]
     },
     "execution_count": 5,
     "metadata": {},
     "output_type": "execute_result"
    }
   ],
   "source": [
    "np.argmax(x) #인덱스가 가장 큰 값, 가장 큰 인덱스 = 2"
   ]
  },
  {
   "cell_type": "code",
   "execution_count": 6,
   "metadata": {},
   "outputs": [
    {
     "data": {
      "text/plain": [
       "2"
      ]
     },
     "execution_count": 6,
     "metadata": {},
     "output_type": "execute_result"
    }
   ],
   "source": [
    "x.argmax()"
   ]
  },
  {
   "cell_type": "code",
   "execution_count": 7,
   "metadata": {},
   "outputs": [
    {
     "data": {
      "text/plain": [
       "array([[ 1,  2,  3],\n",
       "       [ 2,  3,  4],\n",
       "       [ 5,  6,  7],\n",
       "       [ 8,  9, 10]])"
      ]
     },
     "execution_count": 7,
     "metadata": {},
     "output_type": "execute_result"
    }
   ],
   "source": [
    "y = np.array([[1,2,3],[2,3,4],[5,6,7],[8,9,10]])\n",
    "y"
   ]
  },
  {
   "cell_type": "code",
   "execution_count": 8,
   "metadata": {},
   "outputs": [
    {
     "data": {
      "text/plain": [
       "(4, 3)"
      ]
     },
     "execution_count": 8,
     "metadata": {},
     "output_type": "execute_result"
    }
   ],
   "source": [
    "y.shape"
   ]
  },
  {
   "cell_type": "code",
   "execution_count": 9,
   "metadata": {},
   "outputs": [
    {
     "name": "stdout",
     "output_type": "stream",
     "text": [
      "[[[ 1  2  3]\n",
      "  [ 2  3  4]]\n",
      "\n",
      " [[ 5  6  7]\n",
      "  [ 8  9 10]]]\n"
     ]
    }
   ],
   "source": [
    "z = np.array([[[1,2,3],[2,3,4]],[[5,6,7],[8,9,10]]])\n",
    "print(z) #3차원 array = 텐서"
   ]
  },
  {
   "cell_type": "code",
   "execution_count": 10,
   "metadata": {},
   "outputs": [
    {
     "data": {
      "text/plain": [
       "(2, 2, 3)"
      ]
     },
     "execution_count": 10,
     "metadata": {},
     "output_type": "execute_result"
    }
   ],
   "source": [
    "z.shape"
   ]
  },
  {
   "cell_type": "markdown",
   "metadata": {},
   "source": [
    "## Indexing / Slicing"
   ]
  },
  {
   "cell_type": "markdown",
   "metadata": {
    "slideshow": {
     "slide_type": "slide"
    }
   },
   "source": [
    "<img src=\"axes.png\" width=\"600\">\n",
    "\n",
    "<img src=\"numpy.png\" width=\"400\">\n",
    "\n"
   ]
  },
  {
   "cell_type": "markdown",
   "metadata": {
    "slideshow": {
     "slide_type": "subslide"
    }
   },
   "source": [
    "<img src=\"tensor.jpg\" width=\"600\">"
   ]
  },
  {
   "cell_type": "markdown",
   "metadata": {},
   "source": [
    "## Slicing (두번째,세번째 슬라이싱 방법은 머신러닝 할 때 항상 사용되는 슬라이싱 요령)\n",
    "두번째 슬라이싱 : ex) 데이터가 3만 건이 있는데 앞에 2만 건은 훈련용으로 쓰고 뒤에 1만건은 검증용으로 쓸 때 이렇게 자름, 일반적으로 머신러닝에선 행렬 형태의 데이터로 많이 들어감. 행렬 형태로 구성하는 방법도 알아야 pytorch나 tenserflow 같은 라이브러리 함수를 부를때 입력 사양을 맞춰줄 수 있음. \n",
    "\n",
    "세번째 슬라이싱 : ex) 데이터의 칼럼이 3개가 있는데 첫번째,두번째 칼럼은 우리가 훈련을 위한 입력용으로 사용하고 세 번째 칼럼은 지도학습의 정답 데이터(feature), 데이터의 특성 칼럼, 정답 또는 타켓(Label) 칼럼을 구분할 때 자르는 슬라이싱 방법\n",
    "\n",
    "<img src=\"numpy1.png\" width=\"300\">"
   ]
  },
  {
   "cell_type": "code",
   "execution_count": 11,
   "metadata": {},
   "outputs": [
    {
     "name": "stdout",
     "output_type": "stream",
     "text": [
      "[[1 2 3]\n",
      " [4 5 6]\n",
      " [7 8 9]]\n"
     ]
    }
   ],
   "source": [
    "import numpy as np\n",
    "arr = np.array([[1,2,3],[4,5,6],[7,8,9]])\n",
    "print(arr)"
   ]
  },
  {
   "cell_type": "code",
   "execution_count": 12,
   "metadata": {},
   "outputs": [
    {
     "name": "stdout",
     "output_type": "stream",
     "text": [
      "[[2 3]\n",
      " [5 6]]\n"
     ]
    }
   ],
   "source": [
    "print(arr[:2,1:])"
   ]
  },
  {
   "cell_type": "code",
   "execution_count": 13,
   "metadata": {},
   "outputs": [
    {
     "name": "stdout",
     "output_type": "stream",
     "text": [
      "[[7 8 9]]\n",
      "[7 8 9]\n",
      "[[7 8 9]]\n",
      "(1, 3)\n"
     ]
    }
   ],
   "source": [
    "print(arr[2:]) #벡터형태\n",
    "print(arr[2]) #벡터형태\n",
    "print(arr[2::]) #행렬형태\n",
    "print(arr[2::].shape)"
   ]
  },
  {
   "cell_type": "code",
   "execution_count": 14,
   "metadata": {},
   "outputs": [
    {
     "name": "stdout",
     "output_type": "stream",
     "text": [
      "[[1 2]\n",
      " [4 5]\n",
      " [7 8]]\n"
     ]
    }
   ],
   "source": [
    "print(arr[:,:2])"
   ]
  },
  {
   "cell_type": "code",
   "execution_count": 15,
   "metadata": {},
   "outputs": [
    {
     "name": "stdout",
     "output_type": "stream",
     "text": [
      "[4 5]\n",
      "[[4 5]]\n",
      "(1, 2)\n"
     ]
    }
   ],
   "source": [
    "print(arr[1,:2]) #vector 형태, 요소가 2인 형태\n",
    "print(arr[1:2, :2]) #행렬 형태, 대괄호가 하나 더 생김\n",
    "print(arr[1:2, :2].shape)"
   ]
  },
  {
   "cell_type": "markdown",
   "metadata": {},
   "source": [
    "### 벡터의 내적(inner product) \n",
    "- 내적이 되려면 두 벡터의 dimension 이 같아야 한다. 내적은 각 element 의 곱을 모두 더한 것이다.\n",
    "- inner product 은 dot product (점곱) 이라고도 불린다.\n",
    "- 내적을 딥러닝,전통적인 머신러닝도 마찬가지고 딥러닝은 뉴럴 네트워크 내부에서 전부 내적으로 연산이 됨\n",
    "- 벡터 간의 연산이고 벡터가 여러 개 모인 것이 행렬, 행렬의 연산이 전부 행벡터하고 열벡터 간의 내적이 합쳐진게 행렬 곱셈인데 이 원리를 아는 것이 필요\n",
    "- - 어차피 텐서플로나 파이토치 같은 프레임워크가 대신 다 해주기 때문에 직접 코딩할 일은 없지만 원리는 이해해야함. 내적에 의해서 다 연산이 이뤄짐"
   ]
  },
  {
   "cell_type": "code",
   "execution_count": 16,
   "metadata": {},
   "outputs": [
    {
     "name": "stdout",
     "output_type": "stream",
     "text": [
      "[2 5 1]\n"
     ]
    }
   ],
   "source": [
    "a = np.array([2,5,1])\n",
    "print(a)"
   ]
  },
  {
   "cell_type": "code",
   "execution_count": 17,
   "metadata": {},
   "outputs": [
    {
     "name": "stdout",
     "output_type": "stream",
     "text": [
      "[4 3 5]\n"
     ]
    }
   ],
   "source": [
    "b = np.array([4,3,5])\n",
    "print(b)"
   ]
  },
  {
   "cell_type": "markdown",
   "metadata": {},
   "source": [
    "$\\mathbf{a}\\mathbf{b}^T = \\begin{bmatrix} 2 & 5 & 1\\end{bmatrix}\\begin{bmatrix}4\\\\3\\\\5\\end{bmatrix} = \\begin{bmatrix}2*4 + 5*3 + 1*5\\end{bmatrix} = 28$"
   ]
  },
  {
   "cell_type": "code",
   "execution_count": 18,
   "metadata": {},
   "outputs": [
    {
     "data": {
      "text/plain": [
       "28"
      ]
     },
     "execution_count": 18,
     "metadata": {},
     "output_type": "execute_result"
    }
   ],
   "source": [
    "#a,b의 내적 --> scaler\n",
    "np.dot(a,b)"
   ]
  },
  {
   "cell_type": "markdown",
   "metadata": {},
   "source": [
    "## matrix 곱셈 (행렬 곱셈, dot product)\n",
    "\n",
    "### 두 행렬 A 와 B 는 A 의 열(column) 갯수가 B 의 행(row) 갯수와 같을 때 곱할 수 있다. 결과 행렬 C 의 shape 은 A 의 row x B 의 column 이 된다.\n",
    "뉴럴 네트워크 내부는 전부 이런 행렬의 곱셈 연산. 하나는 입력 데이터고 또 하나는 뉴럴네트워크가 스스로 학습한 가중치 행렬 그 두 가지를 행렬 곱을 해서 뉴럴 네트워크 내부의 계산이 이뤄지게 되는데 전부 하나하나로 보면 위에서 말한 내적으로 되어 있음\n",
    "\n",
    "\n",
    "<img src=\"matmul2.png\" width=\"250\">\n",
    "<img src=\"matmul.png\" width=\"350\">\n",
    "\n",
    "$$\\mathbf{A} = \\begin{bmatrix}2&5&1\\\\4&5&3\\end{bmatrix} \\text{ and } \\mathbf{B}=\\begin{bmatrix}4&3&5&7\\\\9&5&3&4\\\\5&3&6&7\\end{bmatrix}$$\n",
    "$$\\mathbf{AB} = \\begin{bmatrix}2*4+5*9+1*5&2*3+5*5+1*3&2*5+5*3+1*6&2*7+5*4+1*7\\\\4*4+5*9+3*5&4*3+5*5+3*3&4*5+5*3+3*6&4*7+5*4+3*7\\end{bmatrix}$$"
   ]
  },
  {
   "cell_type": "code",
   "execution_count": 19,
   "metadata": {},
   "outputs": [
    {
     "name": "stdout",
     "output_type": "stream",
     "text": [
      "[[2 5 2]\n",
      " [1 6 8]]\n"
     ]
    }
   ],
   "source": [
    "a = np.array([[2,1],[1,4]])\n",
    "b = np.array([[1,2,0],[0,1,2]])\n",
    "print(np.matmul(a,b)) # matmul만 해주면 행렬 곱셈 연산이 수행"
   ]
  },
  {
   "cell_type": "markdown",
   "metadata": {},
   "source": [
    "### 전치행렬 (Transposed Matrix)\n",
    "transpose하고 reshape이 많이 쓰이는데 전치행렬 같은 경우에는 행,칼럼하고 바뀜. \n",
    "- 보통 입력 사양들을 맞춰줄때 씀\n",
    "- 텐서플로,파이토치가 원하는 데이터 모양으로 바꿔줘야함, 그래서 전치를 쓰는 경우가 많음\n"
   ]
  },
  {
   "cell_type": "code",
   "execution_count": 20,
   "metadata": {},
   "outputs": [
    {
     "data": {
      "text/plain": [
       "[0, 1, 2, 3, 4, 5, 6, 7, 8]"
      ]
     },
     "execution_count": 20,
     "metadata": {},
     "output_type": "execute_result"
    }
   ],
   "source": [
    "list(range(9))"
   ]
  },
  {
   "cell_type": "code",
   "execution_count": 21,
   "metadata": {},
   "outputs": [
    {
     "data": {
      "text/plain": [
       "array([0, 1, 2, 3, 4, 5, 6, 7, 8])"
      ]
     },
     "execution_count": 21,
     "metadata": {},
     "output_type": "execute_result"
    }
   ],
   "source": [
    "A = np.arange(9) # 요소가 9개인 벡터 --> 근데 이걸 3*3인 행렬로 바꾸고 싶\n",
    "A"
   ]
  },
  {
   "cell_type": "code",
   "execution_count": 22,
   "metadata": {},
   "outputs": [
    {
     "data": {
      "text/plain": [
       "array([[0, 1, 2],\n",
       "       [3, 4, 5],\n",
       "       [6, 7, 8]])"
      ]
     },
     "execution_count": 22,
     "metadata": {},
     "output_type": "execute_result"
    }
   ],
   "source": [
    "B = A.reshape(3,3)\n",
    "B"
   ]
  },
  {
   "cell_type": "code",
   "execution_count": 23,
   "metadata": {},
   "outputs": [
    {
     "data": {
      "text/plain": [
       "array([[0, 3, 6],\n",
       "       [1, 4, 7],\n",
       "       [2, 5, 8]])"
      ]
     },
     "execution_count": 23,
     "metadata": {},
     "output_type": "execute_result"
    }
   ],
   "source": [
    "B.T #B의 전치행렬\n",
    "np.transpose(b)\n",
    "B.transpose() #다 동일한 코드식"
   ]
  },
  {
   "cell_type": "code",
   "execution_count": null,
   "metadata": {},
   "outputs": [],
   "source": []
  }
 ],
 "metadata": {
  "kernelspec": {
   "display_name": "Python 3 (ipykernel)",
   "language": "python",
   "name": "python3"
  },
  "language_info": {
   "codemirror_mode": {
    "name": "ipython",
    "version": 3
   },
   "file_extension": ".py",
   "mimetype": "text/x-python",
   "name": "python",
   "nbconvert_exporter": "python",
   "pygments_lexer": "ipython3",
   "version": "3.12.4"
  }
 },
 "nbformat": 4,
 "nbformat_minor": 4
}
